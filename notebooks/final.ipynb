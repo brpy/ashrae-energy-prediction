{
 "cells": [
  {
   "cell_type": "code",
   "execution_count": 1,
   "metadata": {},
   "outputs": [],
   "source": [
    "import pandas as pd\n",
    "import pickle\n",
    "import numpy as np\n",
    "import math"
   ]
  },
  {
   "cell_type": "code",
   "execution_count": 2,
   "metadata": {},
   "outputs": [],
   "source": [
    "def timefeatures(timestamp):\n",
    "    # time features\n",
    "\n",
    "    DT_M = timestamp.dt.month.astype(np.int8)\n",
    "    DT_W = timestamp.dt.isocalendar().week.astype(np.int8)\n",
    "    DT_D = timestamp.dt.dayofyear.astype(np.int16)\n",
    "    \n",
    "    DT_hour = timestamp.dt.hour.astype(np.int8)\n",
    "    DT_day_week = timestamp.dt.dayofweek.astype(np.int8)\n",
    "    DT_day_month = timestamp.dt.day.astype(np.int8)\n",
    "    DT_week_month = timestamp.dt.day/7\n",
    "    DT_week_month = DT_week_month.apply(lambda x: math.ceil(x)).astype(np.int8)\n",
    "    \n",
    "    DT_h_sin = DT_hour.apply(lambda x:np.sin(2*np.pi*x/24))\n",
    "    DT_h_cos = DT_hour.apply(lambda x:np.cos(2*np.pi*x/24))\n",
    "\n",
    "    # Week days are coded as Mon:0,Tue:1,...Fri:4,Sat:5,Sun:6\n",
    "    weekend = DT_day_week.apply(lambda x: int(x>=5))\n",
    "    \n",
    "    return list(map(lambda x:x.to_numpy()[0],[DT_M, DT_W, DT_D, DT_hour, DT_day_week, DT_day_month, DT_week_month, DT_h_sin, DT_h_cos, weekend]))\n",
    "\n",
    "def weatherfeatures(response):\n",
    "    none_check_float = lambda x: None if not x else float(x)\n",
    "    air_temperature = response['air_temperature']\n",
    "    cloud_coverage = response['cloud_coverage']\n",
    "    dew_temperature = response['dew_temperature']\n",
    "    precip_depth_1_hr = response['dew_temperature']\n",
    "    sea_level_pressure = response['sea_level_pressure']\n",
    "    wind_direction = response['wind_direction']\n",
    "    wind_speed = response['wind_speed']\n",
    "    return list(map(none_check_float, [air_temperature,cloud_coverage,dew_temperature,precip_depth_1_hr,sea_level_pressure,wind_direction,wind_speed]))\n"
   ]
  },
  {
   "cell_type": "code",
   "execution_count": 5,
   "metadata": {},
   "outputs": [],
   "source": [
    "def final(response=X):\n",
    "    with open(\"labelencoder.pkl\", \"rb\") as f:\n",
    "        le = pickle.load(f)\n",
    "\n",
    "    with open(\"lgbm.pkl\", \"rb\") as f:\n",
    "        lgbm = pickle.load(f)\n",
    "    \n",
    "\n",
    "    building_metadata = pd.read_csv(\"../data/building_metadata.csv\")\n",
    "    building_id = int(response[\"building\"])\n",
    "    \n",
    "    meter = int(response[\"meter\"])\n",
    "    site_id = int(response[\"site\"])\n",
    "    \n",
    "    df = building_metadata[building_metadata[\"building_id\"]==building_id].to_dict(orient=\"list\")\n",
    "    df = {k:v[0] for k,v in df.items()}\n",
    "\n",
    "    primary_use = int(le.transform(np.array(df['primary_use']).reshape(1,)).astype(np.int8)[0])\n",
    "    \n",
    "    square_feet = df['square_feet']\n",
    "    square_feet = None if np.isnan(square_feet) else square_feet\n",
    "    \n",
    "    year_built = df['year_built']\n",
    "    year_built = None if np.isnan(year_built) else year_built\n",
    "\n",
    "    response.update({\"primary_use\" : primary_use, \"square_feet\" : square_feet, \"year_built\" : year_built})\n",
    "    \n",
    "    timestamp = pd.to_datetime(pd.Series(response[\"timestamp\"]))\n",
    "    \n",
    "    encoded = [building_id] + [meter] + timefeatures(timestamp) + [site_id, primary_use, square_feet, year_built] + weatherfeatures(response)\n",
    "    meter_reading = np.expm1(lgbm.predict(np.array(encoded).reshape(1,-1))[0])\n",
    "    return {\"meter_reading\" : meter_reading}"
   ]
  },
  {
   "cell_type": "code",
   "execution_count": 6,
   "metadata": {},
   "outputs": [
    {
     "data": {
      "text/plain": [
       "{'meter_reading': 132.49299973579775}"
      ]
     },
     "execution_count": 6,
     "metadata": {},
     "output_type": "execute_result"
    }
   ],
   "source": [
    "# 1d data point\n",
    "X = {'site': '4', 'building': '570', 'meter': '0', 'timestamp': '2017/09/24 21:00:00', 'air_temperature': '22.2', 'cloud_coverage': '', 'dew_temperature': '10.5', 'precip_depth_1_hr': '6', 'sea_level_pressure': '150', 'wind_direction': '', 'wind_speed': '8.2'}\n",
    "final(X)"
   ]
  }
 ],
 "metadata": {
  "kernelspec": {
   "display_name": "Python 3",
   "language": "python",
   "name": "python3"
  },
  "language_info": {
   "codemirror_mode": {
    "name": "ipython",
    "version": 3
   },
   "file_extension": ".py",
   "mimetype": "text/x-python",
   "name": "python",
   "nbconvert_exporter": "python",
   "pygments_lexer": "ipython3",
   "version": "3.7.8"
  }
 },
 "nbformat": 4,
 "nbformat_minor": 4
}
